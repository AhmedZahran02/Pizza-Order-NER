{
 "cells": [
  {
   "cell_type": "code",
   "execution_count": 1,
   "metadata": {
    "execution": {
     "iopub.execute_input": "2024-12-03T18:09:10.740797Z",
     "iopub.status.busy": "2024-12-03T18:09:10.740413Z",
     "iopub.status.idle": "2024-12-03T18:09:10.745678Z",
     "shell.execute_reply": "2024-12-03T18:09:10.744713Z",
     "shell.execute_reply.started": "2024-12-03T18:09:10.740764Z"
    },
    "trusted": true
   },
   "outputs": [],
   "source": [
    "import torch\n",
    "import torch.nn as nn\n",
    "from torch.utils.data import Dataset, DataLoader"
   ]
  },
  {
   "cell_type": "code",
   "execution_count": 3,
   "metadata": {
    "execution": {
     "iopub.execute_input": "2024-12-03T18:09:16.771262Z",
     "iopub.status.busy": "2024-12-03T18:09:16.770424Z",
     "iopub.status.idle": "2024-12-03T18:09:43.004725Z",
     "shell.execute_reply": "2024-12-03T18:09:43.003717Z",
     "shell.execute_reply.started": "2024-12-03T18:09:16.771224Z"
    },
    "trusted": true
   },
   "outputs": [
    {
     "name": "stdout",
     "output_type": "stream",
     "text": [
      "Loading Data Started\n",
      "Loading Data Done\n"
     ]
    }
   ],
   "source": [
    "# Load Data\n",
    "def load_data(file_x, file_y):\n",
    "    with open(file_x, 'r') as fx, open(file_y, 'r') as fy:\n",
    "        sentences = fx.read().strip().split('\\n')\n",
    "        labels = fy.read().strip().split('\\n')\n",
    "    return [sentence.split(\",\") for sentence in sentences], [label.split(',') for label in labels]\n",
    "\n",
    "print(\"Loading Data Started\")\n",
    "train_sentences, train_labels = load_data('database/x_train.txt', 'database/y_train.txt')\n",
    "test_sentences, test_labels = load_data('database/x_dev.txt', 'database/y_dev.txt')\n",
    "print(\"Loading Data Done\")"
   ]
  },
  {
   "cell_type": "code",
   "execution_count": 4,
   "metadata": {
    "execution": {
     "iopub.execute_input": "2024-12-03T18:09:57.011164Z",
     "iopub.status.busy": "2024-12-03T18:09:57.010278Z",
     "iopub.status.idle": "2024-12-03T18:10:00.887367Z",
     "shell.execute_reply": "2024-12-03T18:10:00.886266Z",
     "shell.execute_reply.started": "2024-12-03T18:09:57.011127Z"
    },
    "trusted": true
   },
   "outputs": [
    {
     "name": "stdout",
     "output_type": "stream",
     "text": [
      "Building Vocab Started\n",
      "Building Vocab Done\n"
     ]
    }
   ],
   "source": [
    "# Build Vocabulary\n",
    "def build_vocab(sentences):\n",
    "    with open(\"database/vocabulary.txt\", \"r\") as fv:\n",
    "        vocab = [ v.strip() for v in fv if v != \"\"]\n",
    "    word2idx = {word: idx + 1 for idx, word in enumerate(sorted(vocab))}  # Reserve 0 for padding\n",
    "    word2idx['<PAD>'] = 0\n",
    "    return word2idx\n",
    "\n",
    "def build_label_vocab(labels):\n",
    "    vocab = {label for label_list in labels for label in label_list}\n",
    "    label2idx = {label: idx for idx, label in enumerate(sorted(vocab))}\n",
    "    return label2idx\n",
    "\n",
    "print(\"Building Vocab Started\")\n",
    "word2idx = build_vocab(train_sentences + test_sentences)\n",
    "label2idx = build_label_vocab(train_labels + test_labels)\n",
    "idx2label = {idx: label for label, idx in label2idx.items()}\n",
    "print(\"Building Vocab Done\")"
   ]
  },
  {
   "cell_type": "code",
   "execution_count": 6,
   "metadata": {
    "execution": {
     "iopub.execute_input": "2024-12-03T18:10:05.710431Z",
     "iopub.status.busy": "2024-12-03T18:10:05.709392Z",
     "iopub.status.idle": "2024-12-03T18:10:23.510038Z",
     "shell.execute_reply": "2024-12-03T18:10:23.509019Z",
     "shell.execute_reply.started": "2024-12-03T18:10:05.710377Z"
    },
    "trusted": true
   },
   "outputs": [
    {
     "name": "stdout",
     "output_type": "stream",
     "text": [
      "Preparing Dataset Started\n",
      "Preparing Dataset Done\n"
     ]
    }
   ],
   "source": [
    "# Prepare Dataset\n",
    "class SequenceDataset(Dataset):\n",
    "    def __init__(self, sentences, labels, word2idx, label2idx, max_len=50):\n",
    "        self.sentences = [[word2idx[word] for word in sentence] for sentence in sentences]\n",
    "        self.labels = [[label2idx[label] for label in label_list] for label_list in labels]\n",
    "        self.max_len = max_len\n",
    "\n",
    "    def __len__(self):\n",
    "        return len(self.sentences)\n",
    "\n",
    "    def __getitem__(self, idx):\n",
    "        sentence = self.sentences[idx]\n",
    "        label = self.labels[idx]\n",
    "        sentence = sentence[:self.max_len] + [0] * (self.max_len - len(sentence))\n",
    "        label = label[:self.max_len] + [label2idx['NONE']] * (self.max_len - len(label))\n",
    "        return torch.tensor(sentence), torch.tensor(label)\n",
    "\n",
    "print(\"Preparing Dataset Started\")\n",
    "train_dataset = SequenceDataset(train_sentences, train_labels, word2idx, label2idx)\n",
    "test_dataset = SequenceDataset(test_sentences, test_labels, word2idx, label2idx)\n",
    "\n",
    "train_loader = DataLoader(train_dataset, batch_size=32, shuffle=True)\n",
    "test_loader = DataLoader(test_dataset, batch_size=32)\n",
    "print(\"Preparing Dataset Done\")"
   ]
  },
  {
   "cell_type": "code",
   "execution_count": 9,
   "metadata": {
    "execution": {
     "iopub.execute_input": "2024-12-03T18:10:31.674209Z",
     "iopub.status.busy": "2024-12-03T18:10:31.673832Z",
     "iopub.status.idle": "2024-12-03T18:10:31.680548Z",
     "shell.execute_reply": "2024-12-03T18:10:31.679585Z",
     "shell.execute_reply.started": "2024-12-03T18:10:31.674161Z"
    },
    "trusted": true
   },
   "outputs": [],
   "source": [
    "# Define Model\n",
    "class RNNSequenceLabeling(nn.Module):\n",
    "    def __init__(self, vocab_size, embedding_dim, hidden_dim, output_dim):\n",
    "        super(RNNSequenceLabeling, self).__init__()\n",
    "        self.embedding = nn.Embedding(vocab_size, embedding_dim, padding_idx=0)\n",
    "        self.lstm = nn.LSTM(embedding_dim, hidden_dim, \n",
    "                            num_layers=2, \n",
    "                            bidirectional=True, \n",
    "                            batch_first=True)\n",
    "        self.fc = nn.Linear(hidden_dim * 2, output_dim)\n",
    "\n",
    "    def forward(self, x):\n",
    "        embedded = self.embedding(x)\n",
    "        lstm_out, _ = self.lstm(embedded)\n",
    "        logits = self.fc(lstm_out)\n",
    "        return logits"
   ]
  },
  {
   "cell_type": "code",
   "execution_count": null,
   "metadata": {
    "execution": {
     "iopub.execute_input": "2024-12-03T18:10:35.714799Z",
     "iopub.status.busy": "2024-12-03T18:10:35.713948Z"
    },
    "trusted": true
   },
   "outputs": [],
   "source": [
    "# Training\n",
    "print(\"Training Started\")\n",
    "device = torch.device('cuda' if torch.cuda.is_available() else 'cpu')\n",
    "\n",
    "vocab_size = len(word2idx)\n",
    "embedding_dim = 100\n",
    "hidden_dim = 128\n",
    "output_dim = len(label2idx)\n",
    "\n",
    "model = RNNSequenceLabeling(vocab_size, embedding_dim, hidden_dim, output_dim).to(device)\n",
    "criterion = nn.CrossEntropyLoss()\n",
    "optimizer = torch.optim.Adam(model.parameters(), lr=0.001)\n",
    "\n",
    "num_epochs = 10\n",
    "for epoch in range(num_epochs):\n",
    "    model.train()\n",
    "    total_loss = 0\n",
    "    for sentences, labels in train_loader:\n",
    "        sentences, labels = sentences.to(device), labels.to(device)\n",
    "        optimizer.zero_grad()\n",
    "        predictions = model(sentences)\n",
    "        loss = criterion(predictions.view(-1, output_dim), labels.view(-1))\n",
    "        loss.backward()\n",
    "        optimizer.step()\n",
    "        total_loss += loss.item()\n",
    "\n",
    "    torch.save(model.state_dict(), f\"BLSTM_IT_{epoch + 1}.pth\")\n",
    "    print(f\"Epoch {epoch + 1}/{num_epochs}, Loss: {total_loss / len(train_loader):.4f}\")\n",
    "print(\"Training Done\")"
   ]
  },
  {
   "cell_type": "code",
   "execution_count": null,
   "metadata": {
    "trusted": true
   },
   "outputs": [],
   "source": [
    "# Evaluation\n",
    "def evaluate(model, loader):\n",
    "    model.eval()\n",
    "    total, correct = 0, 0\n",
    "    with torch.no_grad():\n",
    "        for sentences, labels in loader:\n",
    "            sentences, labels = sentences.to(device), labels.to(device)\n",
    "            predictions = model(sentences).argmax(dim=-1)\n",
    "            total += labels.numel()\n",
    "            correct += (predictions == labels).sum().item()\n",
    "    return correct / total\n",
    "print(\"Testing Started\")\n",
    "accuracy = evaluate(model, test_loader)\n",
    "print(f\"Test Accuracy: {accuracy * 100:.2f}%\")\n",
    "print(\"Testing Done\")"
   ]
  }
 ],
 "metadata": {
  "kaggle": {
   "accelerator": "gpu",
   "dataSources": [
    {
     "datasetId": 6222132,
     "sourceId": 10090626,
     "sourceType": "datasetVersion"
    }
   ],
   "dockerImageVersionId": 30805,
   "isGpuEnabled": true,
   "isInternetEnabled": true,
   "language": "python",
   "sourceType": "notebook"
  },
  "kernelspec": {
   "display_name": "Python 3",
   "language": "python",
   "name": "python3"
  },
  "language_info": {
   "codemirror_mode": {
    "name": "ipython",
    "version": 3
   },
   "file_extension": ".py",
   "mimetype": "text/x-python",
   "name": "python",
   "nbconvert_exporter": "python",
   "pygments_lexer": "ipython3",
   "version": "3.12.2"
  }
 },
 "nbformat": 4,
 "nbformat_minor": 4
}
